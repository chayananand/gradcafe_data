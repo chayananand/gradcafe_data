{
  "cells": [
    {
      "cell_type": "markdown",
      "metadata": {
        "id": "view-in-github",
        "colab_type": "text"
      },
      "source": [
        "<a href=\"https://colab.research.google.com/github/chayananand/gradcafe_data/blob/master/above_code_for_time_%3D_10_am_and_38_hours_addition.ipynb\" target=\"_parent\"><img src=\"https://colab.research.google.com/assets/colab-badge.svg\" alt=\"Open In Colab\"/></a>"
      ]
    },
    {
      "cell_type": "markdown",
      "source": [
        "Sure, here is the Python program that uses the above code for time = 10 am and 38 hours addition:"
      ],
      "metadata": {
        "id": "zNb7cbkJf1rf"
      }
    },
    {
      "cell_type": "code",
      "source": [
        "# Ask the user for an hour between 1 and 12\n",
        "hour = int(input(\"Enter an hour between 1 and 12: \"))\n",
        "\n",
        "# Ask the user to enter am or pm\n",
        "ampm = input(\"Enter am or pm: \")\n",
        "\n",
        "# Ask the user how many hours into the future they want to go\n",
        "future_hours = int(input(\"How many hours into the future do you want to go? \"))\n",
        "\n",
        "# Calculate the future hour\n",
        "future_hour = (hour + future_hours) % 12\n",
        "\n",
        "# If the future hour is greater than 12, subtract 12 from it\n",
        "if future_hour > 12:\n",
        "  future_hour -= 12\n",
        "\n",
        "# Print the future hour, including am or pm\n",
        "if ampm == \"am\":\n",
        "  if future_hour == 0:\n",
        "    print(\"The future hour is 12am\")\n",
        "  else:\n",
        "    print(\"The future hour is\", future_hour, \"am\")\n",
        "else:\n",
        "  if future_hour == 0:\n",
        "    print(\"The future hour is 12pm\")\n",
        "  else:\n",
        "    print(\"The future hour is\", future_hour, \"pm\")"
      ],
      "outputs": [],
      "execution_count": null,
      "metadata": {
        "id": "p4WUtM--f1rn"
      }
    },
    {
      "cell_type": "markdown",
      "source": [
        "Here is an example of how the program would work if the user enters 10am and 38 hours:\n",
        "\n",
        "```\n",
        "Enter an hour between 1 and 12: 10\n",
        "Enter am or pm: am\n",
        "How many hours into the future do you want to go? 38\n",
        "The future hour is 12pm\n",
        "```"
      ],
      "metadata": {
        "id": "BsJKDu0Vf1rq"
      }
    }
  ],
  "metadata": {
    "colab": {
      "provenance": [],
      "include_colab_link": true
    },
    "kernelspec": {
      "display_name": "Python 3",
      "name": "python3"
    }
  },
  "nbformat": 4,
  "nbformat_minor": 0
}